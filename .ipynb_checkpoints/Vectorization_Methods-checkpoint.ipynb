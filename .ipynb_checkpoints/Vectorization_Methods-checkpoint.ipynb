{
 "cells": [
  {
   "cell_type": "code",
   "execution_count": 49,
   "id": "2e381816",
   "metadata": {},
   "outputs": [],
   "source": [
    "import numpy as np\n",
    "from sklearn.datasets import fetch_20newsgroups\n",
    "from sklearn.feature_extraction.text import CountVectorizer\n",
    "from sklearn.feature_extraction.text import TfidfTransformer\n",
    "from sklearn.model_selection import train_test_split\n",
    "from sklearn.model_selection import GridSearchCV\n",
    "from sklearn.naive_bayes import MultinomialNB\n",
    "from sklearn.pipeline import Pipeline\n",
    "from sklearn.linear_model import SGDClassifier"
   ]
  },
  {
   "cell_type": "code",
   "execution_count": 50,
   "id": "ddf4428b",
   "metadata": {},
   "outputs": [],
   "source": [
    "# Load the newsgroups dataset\n",
    "newsgroups = fetch_20newsgroups(subset='all')\n",
    "data = newsgroups.data\n",
    "target = newsgroups.target"
   ]
  },
  {
   "cell_type": "code",
   "execution_count": 23,
   "id": "6dd956ac",
   "metadata": {
    "scrolled": true
   },
   "outputs": [
    {
     "name": "stdout",
     "output_type": "stream",
     "text": [
      "From: Mamatha Devineni Ratnam <mr47+@andrew.cmu.edu>\n",
      "Subject: Pens fans reactions\n",
      "Organization: Post Office, Carnegie Mellon, Pittsburgh, PA\n",
      "\n",
      " rec.sport.hockey\n"
     ]
    }
   ],
   "source": [
    "print(\"\\n\".join(newsgroups.data[0].split(\"\\n\")[:3]))\n",
    "\n",
    "print(\"\\n\",newsgroups.target_names[newsgroups.target[0]])"
   ]
  },
  {
   "cell_type": "code",
   "execution_count": 24,
   "id": "a7f84d61",
   "metadata": {},
   "outputs": [],
   "source": [
    "# Split dataset into training and testing set\n",
    "data_train, data_test, target_train, target_test = train_test_split(data, target, test_size=0.2, random_state=42)"
   ]
  },
  {
   "cell_type": "code",
   "execution_count": 13,
   "id": "c4fa3f3a",
   "metadata": {},
   "outputs": [
    {
     "name": "stdout",
     "output_type": "stream",
     "text": [
      "(15076, 149303)\n"
     ]
    }
   ],
   "source": [
    "# Bag of Words model\n",
    "bow_vectorizer = CountVectorizer()\n",
    "bow_train = bow_vectorizer.fit_transform(data_train)\n",
    "bow_test = bow_vectorizer.transform(data_test)"
   ]
  },
  {
   "cell_type": "code",
   "execution_count": 46,
   "id": "902754fd",
   "metadata": {},
   "outputs": [],
   "source": [
    "# N-grams model (bigrams in this example)\n",
    "ngram_vectorizer = CountVectorizer(ngram_range=(2, 2))\n",
    "ngram_train = ngram_vectorizer.fit_transform(data_train)\n",
    "ngram_test = ngram_vectorizer.transform(data_test)"
   ]
  },
  {
   "cell_type": "code",
   "execution_count": 18,
   "id": "76a69476",
   "metadata": {},
   "outputs": [
    {
     "name": "stdout",
     "output_type": "stream",
     "text": [
      "(15076, 149303)\n"
     ]
    }
   ],
   "source": [
    "# Bag of Words model can be updated to account for term frequency (TF)\n",
    "tf_transformer = TfidfTransformer(use_idf=False).fit(bow_train)\n",
    "bow_train_tf = tf_transformer.transform(bow_train)\n",
    "print(bow_train_tf.shape)"
   ]
  },
  {
   "cell_type": "code",
   "execution_count": 31,
   "id": "1dc19ca5",
   "metadata": {},
   "outputs": [
    {
     "name": "stdout",
     "output_type": "stream",
     "text": [
      "'God is love' => soc.religion.christian\n",
      "'OpenGL on the GPU is fast' => comp.sys.ibm.pc.hardware\n"
     ]
    }
   ],
   "source": [
    "# Train a Multinomial Naive Bayes classifier to predict the category of a post\n",
    "classifier = MultinomialNB().fit(bow_train_tf, target_train)\n",
    "\n",
    "docs_new = ['God is love', 'OpenGL on the GPU is fast']\n",
    "X_new = bow_vectorizer.transform(docs_new)\n",
    "X_new_tf = tf_transformer.transform(X_new)\n",
    "\n",
    "predicted = classifier.predict(X_new_tf)\n",
    "\n",
    "for doc, category in zip(docs_new, predicted):\n",
    "    print('%r => %s' % (doc, newsgroups.target_names[category]))"
   ]
  },
  {
   "cell_type": "code",
   "execution_count": 44,
   "id": "15daa79b",
   "metadata": {},
   "outputs": [],
   "source": [
    "# Create a Pipeline\n",
    "text_classifier = Pipeline([\n",
    "    ('tf', TfidfTransformer(use_idf=False)),\n",
    "    ('classifier', MultinomialNB())\n",
    "])"
   ]
  },
  {
   "cell_type": "code",
   "execution_count": 45,
   "id": "0df539a2",
   "metadata": {},
   "outputs": [
    {
     "name": "stdout",
     "output_type": "stream",
     "text": [
      "Accuracy achieved for Bag-of-Words model is  0.7652519893899205\n",
      "Accuracy achieved for 2-grams model is  0.8074270557029177\n"
     ]
    }
   ],
   "source": [
    "# Evaluate performance\n",
    "text_classifier.fit(bow_train, target_train)\n",
    "predicted = text_classifier.predict(bow_test)\n",
    "print('Accuracy achieved for Bag-of-Words model is ', np.mean(predicted == target_test))\n",
    "\n",
    "text_classifier.fit(ngram_train, target_train)\n",
    "predicted = text_classifier.predict(ngram_test)\n",
    "print('Accuracy achieved for 2-grams model is ', np.mean(predicted == target_test))"
   ]
  },
  {
   "cell_type": "code",
   "execution_count": 47,
   "id": "830ba31e",
   "metadata": {},
   "outputs": [],
   "source": [
    "# Change the classifier used in our Pipeline to a linear Support Vector Machine\n",
    "text_classifier = Pipeline([\n",
    "    ('tf', TfidfTransformer(use_idf=False)),\n",
    "    ('classifier', SGDClassifier(loss='hinge', penalty='l2',\n",
    "                              alpha=1e-3, random_state=42,\n",
    "                              max_iter=5, tol=None))\n",
    "])"
   ]
  },
  {
   "cell_type": "code",
   "execution_count": 48,
   "id": "989f4c57",
   "metadata": {},
   "outputs": [
    {
     "name": "stdout",
     "output_type": "stream",
     "text": [
      "Accuracy achieved for Bag-of-Words model is  0.8236074270557029\n",
      "Accuracy achieved for 2-grams model is  0.8697612732095491\n"
     ]
    }
   ],
   "source": [
    "# Evaluate performance with the new classifier\n",
    "text_classifier.fit(bow_train, target_train)\n",
    "predicted = text_classifier.predict(bow_test)\n",
    "print('Accuracy achieved for Bag-of-Words model is ', np.mean(predicted == target_test))\n",
    "\n",
    "text_classifier.fit(ngram_train, target_train)\n",
    "predicted = text_classifier.predict(ngram_test)\n",
    "print('Accuracy achieved for 2-grams model is ', np.mean(predicted == target_test))"
   ]
  },
  {
   "cell_type": "code",
   "execution_count": null,
   "id": "63eff1cd",
   "metadata": {},
   "outputs": [],
   "source": [
    "# Parameter grid search to see which parameters are ideal for this specific task\n",
    "parameters = {\n",
    "    'n': [(1,1), (1,2), (2,2)],\n",
    "    'tf_use_idf': (True, False),\n",
    "    'alpha': (1e-2, 1e-3),\n",
    "}"
   ]
  },
  {
   "cell_type": "code",
   "execution_count": null,
   "id": "77140e5f",
   "metadata": {},
   "outputs": [],
   "source": [
    "# Grid search classifier"
   ]
  }
 ],
 "metadata": {
  "kernelspec": {
   "display_name": "work",
   "language": "python",
   "name": "work"
  },
  "language_info": {
   "codemirror_mode": {
    "name": "ipython",
    "version": 3
   },
   "file_extension": ".py",
   "mimetype": "text/x-python",
   "name": "python",
   "nbconvert_exporter": "python",
   "pygments_lexer": "ipython3",
   "version": "3.6.13"
  }
 },
 "nbformat": 4,
 "nbformat_minor": 5
}
